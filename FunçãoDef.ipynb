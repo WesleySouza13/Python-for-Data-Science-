{
  "nbformat": 4,
  "nbformat_minor": 0,
  "metadata": {
    "colab": {
      "provenance": [],
      "toc_visible": true,
      "authorship_tag": "ABX9TyP86nXOcdiFWjeIn737mzbc",
      "include_colab_link": true
    },
    "kernelspec": {
      "name": "python3",
      "display_name": "Python 3"
    },
    "language_info": {
      "name": "python"
    }
  },
  "cells": [
    {
      "cell_type": "markdown",
      "metadata": {
        "id": "view-in-github",
        "colab_type": "text"
      },
      "source": [
        "<a href=\"https://colab.research.google.com/github/WesleySouza13/Python-for-Data-Science-/blob/main/Fun%C3%A7%C3%A3oDef.ipynb\" target=\"_parent\"><img src=\"https://colab.research.google.com/assets/colab-badge.svg\" alt=\"Open In Colab\"/></a>"
      ]
    },
    {
      "cell_type": "markdown",
      "source": [
        "# Função def"
      ],
      "metadata": {
        "id": "uxzmM_TkCNJ5"
      }
    },
    {
      "cell_type": "code",
      "source": [
        "#a função def serve para criar uma função manualmente pelo python. Sim, ssim como o print() e outras funções"
      ],
      "metadata": {
        "id": "0eT5Kt3vCSCO"
      },
      "execution_count": null,
      "outputs": []
    },
    {
      "cell_type": "code",
      "source": [
        "#exemplo:\n",
        "def parabens():\n",
        "  print('parabens\\nFeliz aniversario, otario')\n",
        "#depois é só chamar a função\n",
        "parabens()\n"
      ],
      "metadata": {
        "colab": {
          "base_uri": "https://localhost:8080/"
        },
        "id": "CZ3rsAwvCfil",
        "outputId": "ebf1b4da-fce0-4b36-9823-2cb90db12184"
      },
      "execution_count": 6,
      "outputs": [
        {
          "output_type": "stream",
          "name": "stdout",
          "text": [
            "parabens\n",
            "Feliz aniversario, otario\n"
          ]
        }
      ]
    },
    {
      "cell_type": "code",
      "source": [
        "#agora vamos imaginar outro caso. Vamos criar uma função para ver se a letra 'S' esta presente numa frase ou palavra\n",
        "def letraS():\n",
        "  frase = input('fala alguma coisa aí:')\n",
        "  if 's' in frase:\n",
        "    print('Nao use essa letra comigo')\n",
        "  else:\n",
        "      print('a, legal fera, tmj')\n"
      ],
      "metadata": {
        "id": "U6qVUPAYDWo1"
      },
      "execution_count": 21,
      "outputs": []
    },
    {
      "cell_type": "code",
      "source": [
        "letraS()"
      ],
      "metadata": {
        "colab": {
          "base_uri": "https://localhost:8080/"
        },
        "id": "T4T59LHMExn-",
        "outputId": "c1c93700-b7fe-4ad5-f6d8-605207afcccc"
      },
      "execution_count": 22,
      "outputs": [
        {
          "output_type": "stream",
          "name": "stdout",
          "text": [
            "fala alguma coisa aí:se ta bem?\n",
            "Nao use essa letra comigo\n"
          ]
        }
      ]
    },
    {
      "cell_type": "code",
      "source": [
        "#podemos criar tambem funções matematicas\n",
        "def soma(a,b):\n",
        "  Soma1 = a + b\n",
        "  return Soma1 #retorna o valor de Soma1\n",
        "soma(2,2) #informe os valores de a e b respectivamente"
      ],
      "metadata": {
        "colab": {
          "base_uri": "https://localhost:8080/"
        },
        "id": "FQAxceUFE-IF",
        "outputId": "4fd48238-7624-4729-b328-c105e1017621"
      },
      "execution_count": 27,
      "outputs": [
        {
          "output_type": "execute_result",
          "data": {
            "text/plain": [
              "4"
            ]
          },
          "metadata": {},
          "execution_count": 27
        }
      ]
    },
    {
      "cell_type": "markdown",
      "source": [
        "esse estudo é a revisão basica e rapida de funçoes. Se voce leu, parabens, vc tem paciencia para tentar me entender. Desde já agradeço"
      ],
      "metadata": {
        "id": "sie-3eqHFoU6"
      }
    }
  ]
}