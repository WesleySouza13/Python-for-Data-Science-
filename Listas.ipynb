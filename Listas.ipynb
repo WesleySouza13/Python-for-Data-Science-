{
  "nbformat": 4,
  "nbformat_minor": 0,
  "metadata": {
    "colab": {
      "provenance": [],
      "toc_visible": true,
      "authorship_tag": "ABX9TyMGvtq2ZBxbpayRFyngCABX",
      "include_colab_link": true
    },
    "kernelspec": {
      "name": "python3",
      "display_name": "Python 3"
    },
    "language_info": {
      "name": "python"
    }
  },
  "cells": [
    {
      "cell_type": "markdown",
      "metadata": {
        "id": "view-in-github",
        "colab_type": "text"
      },
      "source": [
        "<a href=\"https://colab.research.google.com/github/WesleySouza13/Python-for-Data-Science-/blob/main/Listas.ipynb\" target=\"_parent\"><img src=\"https://colab.research.google.com/assets/colab-badge.svg\" alt=\"Open In Colab\"/></a>"
      ]
    },
    {
      "cell_type": "markdown",
      "source": [
        "# Listas [ ]"
      ],
      "metadata": {
        "id": "7N5VpcAKIRN2"
      }
    },
    {
      "cell_type": "code",
      "source": [
        "#temos de caso de estudo, uma variavel 'QualquerCoisa', e, dentro dela, há um conjunto de valores dentro de um colchete '[]'\n"
      ],
      "metadata": {
        "id": "ar0wA7QuIX10"
      },
      "execution_count": null,
      "outputs": []
    },
    {
      "cell_type": "code",
      "source": [
        "QualquerCoisa = [1,3,2]\n",
        "#que tipo de animal é esse? Não sabe? pergunte ao python\n",
        "type(QualquerCoisa)"
      ],
      "metadata": {
        "colab": {
          "base_uri": "https://localhost:8080/"
        },
        "id": "qJB9OIAOInri",
        "outputId": "354c7e5f-13b7-4b35-9eab-57eb26bbb1a1"
      },
      "execution_count": 1,
      "outputs": [
        {
          "output_type": "execute_result",
          "data": {
            "text/plain": [
              "list"
            ]
          },
          "metadata": {},
          "execution_count": 1
        }
      ]
    },
    {
      "cell_type": "markdown",
      "source": [
        "ooooooooooooo 😧ele disse que é uma lista.\n",
        "Mas o que é uma lista?\n",
        "Listas são conjuntos de dados que podem ser lidos pelo python. No geral, é só um conjunto de dados dentro de conchetes. Podemos trabalhar com varios conjuntos e tipos de elementos dentro desse recurso."
      ],
      "metadata": {
        "id": "-7u2ACu0I49g"
      }
    },
    {
      "cell_type": "code",
      "source": [
        "#vamos utilizar outro exemplo\n",
        "lista1 = [[1,4,3], [2,4,5],[9,7,5]]\n",
        "type(lista1)"
      ],
      "metadata": {
        "colab": {
          "base_uri": "https://localhost:8080/"
        },
        "id": "D5dVmu1yJft3",
        "outputId": "f4b0bc69-9497-4f02-9d06-f154e6d5f174"
      },
      "execution_count": 2,
      "outputs": [
        {
          "output_type": "execute_result",
          "data": {
            "text/plain": [
              "list"
            ]
          },
          "metadata": {},
          "execution_count": 2
        }
      ]
    },
    {
      "cell_type": "markdown",
      "source": [
        "Ué, mas uma lista dentro de outra lista? sim. o nome disso é filtro, onde podemos coletar a posição do elemento nessa lista e o valor presente neste mesmo elemento. Vamos de exemplo:"
      ],
      "metadata": {
        "id": "C7ZXYix1JzAK"
      }
    },
    {
      "cell_type": "code",
      "source": [
        "lista1[0]"
      ],
      "metadata": {
        "colab": {
          "base_uri": "https://localhost:8080/"
        },
        "id": "tZnIGtfOKCNu",
        "outputId": "aeadb866-47bf-4c2a-aa8a-210cba97c764"
      },
      "execution_count": 3,
      "outputs": [
        {
          "output_type": "execute_result",
          "data": {
            "text/plain": [
              "[1, 4, 3]"
            ]
          },
          "metadata": {},
          "execution_count": 3
        }
      ]
    },
    {
      "cell_type": "markdown",
      "source": [
        "lembrando: o python é meio burro, ele não conta igual gente de bem, a contagem dele começa em 0 e vai ate onde vc decidir. Então, ele o zero dele é o 1, o 1 é o dois e por aí vai"
      ],
      "metadata": {
        "id": "xHXnBy-MKGyo"
      }
    },
    {
      "cell_type": "markdown",
      "source": [
        "ta, ele nos devolveu a posição da lista dentro desse filtro. Mas e se eu quiser pegar a posição do valor numerico ou categorico dentro desse filtro? É simples, só criar um filtro como retorno. exemplo:\n"
      ],
      "metadata": {
        "id": "D0CFH5jXKao-"
      }
    },
    {
      "cell_type": "code",
      "source": [
        "lista1[0][2]"
      ],
      "metadata": {
        "colab": {
          "base_uri": "https://localhost:8080/"
        },
        "id": "2fdmWFf9KvRf",
        "outputId": "657cf366-c695-459b-c5e7-f3baf0447a24"
      },
      "execution_count": 4,
      "outputs": [
        {
          "output_type": "execute_result",
          "data": {
            "text/plain": [
              "3"
            ]
          },
          "metadata": {},
          "execution_count": 4
        }
      ]
    },
    {
      "cell_type": "markdown",
      "source": [
        "ele pegou o numero 3, que esta na posição 2 da nossa lista 0. viu como é facil?"
      ],
      "metadata": {
        "id": "9FFAd5EsK1qN"
      }
    },
    {
      "cell_type": "code",
      "source": [
        "#podemos brincar com isso\n",
        "select = lista1[1]\n",
        "type(select)\n",
        "#demos um tipo a uma variavel select"
      ],
      "metadata": {
        "colab": {
          "base_uri": "https://localhost:8080/"
        },
        "id": "n-N49STdLvAJ",
        "outputId": "f5cbe3cd-32e3-4bfc-b2be-ec3e227b0631"
      },
      "execution_count": 6,
      "outputs": [
        {
          "output_type": "execute_result",
          "data": {
            "text/plain": [
              "list"
            ]
          },
          "metadata": {},
          "execution_count": 6
        }
      ]
    },
    {
      "cell_type": "code",
      "source": [
        "#podemos dar valores inteiros tambem a essa variavel\n",
        "select1 = lista1[0][2]\n",
        "print(select1)\n",
        "type(select1)"
      ],
      "metadata": {
        "colab": {
          "base_uri": "https://localhost:8080/"
        },
        "id": "DbiR1onnL7xD",
        "outputId": "0b8fd9de-a00b-4439-d72f-004ac285c470"
      },
      "execution_count": 11,
      "outputs": [
        {
          "output_type": "stream",
          "name": "stdout",
          "text": [
            "3\n"
          ]
        },
        {
          "output_type": "execute_result",
          "data": {
            "text/plain": [
              "int"
            ]
          },
          "metadata": {},
          "execution_count": 11
        }
      ]
    },
    {
      "cell_type": "code",
      "source": [
        "#vamos trabalhar com funções dentro de listas\n",
        "import random\n"
      ],
      "metadata": {
        "id": "hR0Tm69SMXi5"
      },
      "execution_count": 12,
      "outputs": []
    },
    {
      "cell_type": "code",
      "source": [
        "cidades = ['Sao Paulo', 'Rio de Janeiro', 'Cordeiro', 'Macuco']\n",
        "escolhida = random.choice(cidades) #usa a biblioteca 'random' e a função ' choice'\n",
        "print('a cidade escolhida foi:', escolhida)"
      ],
      "metadata": {
        "colab": {
          "base_uri": "https://localhost:8080/"
        },
        "id": "OKYD690AMc6M",
        "outputId": "4f99edef-1df0-4f49-89e1-1c911904e9ab"
      },
      "execution_count": 17,
      "outputs": [
        {
          "output_type": "stream",
          "name": "stdout",
          "text": [
            "a cidade escolhida foi: Macuco\n"
          ]
        }
      ]
    },
    {
      "cell_type": "markdown",
      "source": [
        "é só isso, não tem misterio"
      ],
      "metadata": {
        "id": "bQCHw9IvNXDd"
      }
    }
  ]
}